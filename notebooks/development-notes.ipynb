{
 "cells": [
  {
   "cell_type": "markdown",
   "id": "647c56a5-9275-44cc-813e-66390bae2e13",
   "metadata": {},
   "source": [
    "# Development notes and code for a Generalised Order Statistic Tree"
   ]
  },
  {
   "cell_type": "markdown",
   "id": "b4d8ef77-244d-48f4-81e6-406990a93f32",
   "metadata": {},
   "source": [
    "## Background"
   ]
  },
  {
   "cell_type": "markdown",
   "id": "abb18a21-274d-43ff-9ffa-01c08828c594",
   "metadata": {},
   "source": [
    "The objective of these notebook is to document and track the development of a python implementation of a **Generalised Order Statistic Tree** (GOST). In particular, the notebook explains the rationale for various design decisions as they are taken and or changed and refactored. "
   ]
  },
  {
   "cell_type": "markdown",
   "id": "c740827b-ec94-4d78-95e0-ec9f462a7cf1",
   "metadata": {},
   "source": [
    "## Development plan"
   ]
  },
  {
   "cell_type": "markdown",
   "id": "ee7bb01b-25e5-44a1-a69c-a6e81e36b2cc",
   "metadata": {},
   "source": [
    "The goal is to create a pure python package which provides an implementation of a GOST. However, a GOST is an generalisation of an **Order Statistic Tree** (OST), which in turn is an augmentation of a **Red Black Tree** (RBT)."
   ]
  },
  {
   "cell_type": "markdown",
   "id": "bf495b44-103e-4639-9f3b-e48211ce2a71",
   "metadata": {},
   "source": [
    "## Development of basic red black tree"
   ]
  },
  {
   "cell_type": "markdown",
   "id": "0751187a-320b-40d7-9256-f46f7bc12d64",
   "metadata": {},
   "source": [
    "<div>\n",
    "<img src=\"./rb-tree-description.png\" width=\"500\">\n",
    "</div>\n",
    "\n",
    "**Reference :** From page _unknown_ of [1]"
   ]
  },
  {
   "cell_type": "markdown",
   "id": "c7890a90-b1a4-4a8e-a706-92e6b0b89693",
   "metadata": {},
   "source": [
    "<div>\n",
    "<img src=\"./rb-tree-images.png\" width=\"500\">\n",
    "</div>\n",
    "<div>\n",
    "<img src=\"./rb-tree-images-caption.png\" width=\"500\">\n",
    "</div>\n",
    "\n",
    "**Reference :** Copy of figure 13.1 from page _unknown_ of [1]"
   ]
  },
  {
   "cell_type": "code",
   "execution_count": 1,
   "id": "c27b7550-a07b-43d3-9a53-fbbb9971fdde",
   "metadata": {},
   "outputs": [
    {
     "ename": "IndentationError",
     "evalue": "expected an indented block after function definition on line 11 (3529620571.py, line 12)",
     "output_type": "error",
     "traceback": [
      "\u001b[0;36m  Cell \u001b[0;32mIn[1], line 12\u001b[0;36m\u001b[0m\n\u001b[0;31m    \u001b[0m\n\u001b[0m    ^\u001b[0m\n\u001b[0;31mIndentationError\u001b[0m\u001b[0;31m:\u001b[0m expected an indented block after function definition on line 11\n"
     ]
    }
   ],
   "source": [
    "class node :\n",
    "    class __nil :\n",
    "        color = True \n",
    "    __RED = False\n",
    "    __BLACK = True\n",
    "    __color = None\n",
    "    __key = None\n",
    "    __left = None\n",
    "    __right = None\n",
    "    __p = None\n",
    "    def __left_rotate(T,x) : \n",
    "        pass\n",
    "        \n",
    "        "
   ]
  },
  {
   "cell_type": "code",
   "execution_count": null,
   "id": "34462b45-40f9-4d40-ba7c-ed7540d68a85",
   "metadata": {},
   "outputs": [],
   "source": []
  },
  {
   "cell_type": "markdown",
   "id": "7e96ce98-02bf-4691-80e8-784440f0f003",
   "metadata": {},
   "source": [
    "## References"
   ]
  },
  {
   "cell_type": "markdown",
   "id": "d1f7165d-38a2-4e6c-9b22-79a1edac2ad4",
   "metadata": {},
   "source": [
    "[1] Cormen, T. H., Leiserson, C. E., Rivest, R. L.,, Stein, C. (2022). Introduction to Algorithms.(4th edition) \\\n",
    "The MIT Press. ISBN: 9780262046305"
   ]
  },
  {
   "cell_type": "code",
   "execution_count": null,
   "id": "f9e9d8ed-71ec-456e-b22b-3a4b3d890be7",
   "metadata": {},
   "outputs": [],
   "source": []
  }
 ],
 "metadata": {
  "kernelspec": {
   "display_name": "Python 3 (ipykernel)",
   "language": "python",
   "name": "python3"
  },
  "language_info": {
   "codemirror_mode": {
    "name": "ipython",
    "version": 3
   },
   "file_extension": ".py",
   "mimetype": "text/x-python",
   "name": "python",
   "nbconvert_exporter": "python",
   "pygments_lexer": "ipython3",
   "version": "3.10.0"
  }
 },
 "nbformat": 4,
 "nbformat_minor": 5
}
